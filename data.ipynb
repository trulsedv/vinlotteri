{
 "cells": [
  {
   "cell_type": "code",
   "execution_count": 1,
   "metadata": {},
   "outputs": [],
   "source": [
    "import pandas as pd"
   ]
  },
  {
   "cell_type": "markdown",
   "metadata": {},
   "source": [
    "## Første trekkning, 16. oktober 2015"
   ]
  },
  {
   "cell_type": "code",
   "execution_count": 2,
   "metadata": {
    "scrolled": true
   },
   "outputs": [],
   "source": [
    "path_lodd = '../Trekkninger/2015.10.16/salg.txt'\n",
    "path_premier = '../Trekkninger/2015.10.16/premier.txt'\n",
    "\n",
    "pris = 20\n",
    "dato = '16.10.2015'"
   ]
  },
  {
   "cell_type": "code",
   "execution_count": 3,
   "metadata": {
    "scrolled": true
   },
   "outputs": [],
   "source": [
    "col = ['navn', 'lodd']\n",
    "df1 = pd.read_csv(path_lodd, sep='\\t', names = col, index_col = col[0])\n",
    "\n",
    "col = ['navn', 'premier']\n",
    "df2 = pd.read_csv(path_premier, sep='\\t', names = col, index_col = col[0])\n",
    "\n",
    "df3 = pd.merge(df1,df2,on='navn', how='outer')\n",
    "df3.fillna(0, inplace = True)\n",
    "\n",
    "salg = pd.DataFrame([df3['lodd'] * pris]).transpose()\n",
    "lodd = pd.DataFrame([df3['lodd']]).transpose()\n",
    "premier = pd.DataFrame([df3['premier']]).transpose()\n",
    "\n",
    "salg.rename(columns={'lodd': dato}, inplace = True)\n",
    "lodd.rename(columns={'lodd': dato}, inplace = True)\n",
    "premier.rename(columns={'premier': dato}, inplace = True)"
   ]
  },
  {
   "cell_type": "markdown",
   "metadata": {},
   "source": [
    "## 15. februar 2016"
   ]
  },
  {
   "cell_type": "code",
   "execution_count": 4,
   "metadata": {},
   "outputs": [],
   "source": [
    "path_lodd = '../Trekkninger/2016.02.05/salg.txt'\n",
    "path_premier = '../Trekkninger/2016.02.05/premier.txt'\n",
    "\n",
    "pris = 20\n",
    "dato = '05.02.2016'"
   ]
  },
  {
   "cell_type": "code",
   "execution_count": 5,
   "metadata": {},
   "outputs": [],
   "source": [
    "col = ['navn', 'lodd']\n",
    "df1 = pd.read_csv(path_lodd, sep='\\t', names = col, index_col = col[0])\n",
    "\n",
    "col = ['navn', 'premier']\n",
    "df2 = pd.read_csv(path_premier, sep='\\t', names = col, index_col = col[0])\n",
    "\n",
    "df3 = pd.merge(df1,df2,on='navn', how='outer')\n",
    "df3.fillna(0, inplace = True)"
   ]
  },
  {
   "cell_type": "code",
   "execution_count": 6,
   "metadata": {},
   "outputs": [],
   "source": [
    "salg = pd.merge(df3,salg, on = 'navn', how = 'outer')\n",
    "salg.drop(columns=['premier'], inplace = True)\n",
    "salg['lodd'] = salg['lodd'] * pris\n",
    "salg.rename(columns={'lodd': dato}, inplace = True)\n",
    "salg.fillna(0, inplace = True)"
   ]
  },
  {
   "cell_type": "code",
   "execution_count": 7,
   "metadata": {},
   "outputs": [],
   "source": [
    "lodd = pd.merge(df3,lodd, on = 'navn', how = 'outer')\n",
    "lodd.drop(columns=['premier'], inplace = True)\n",
    "lodd.rename(columns={'lodd': dato}, inplace = True)\n",
    "lodd.fillna(0, inplace = True)"
   ]
  },
  {
   "cell_type": "code",
   "execution_count": 8,
   "metadata": {
    "scrolled": true
   },
   "outputs": [],
   "source": [
    "premier = pd.merge(df3,premier, on = 'navn', how = 'outer')\n",
    "premier.drop(columns=['lodd'], inplace = True)\n",
    "premier.rename(columns={'premier': dato}, inplace = True)\n",
    "premier.fillna(0, inplace = True)"
   ]
  },
  {
   "cell_type": "markdown",
   "metadata": {},
   "source": [
    "## 22. april 2016"
   ]
  },
  {
   "cell_type": "code",
   "execution_count": 9,
   "metadata": {},
   "outputs": [],
   "source": [
    "path_lodd = '../Trekkninger/2016.04.22/salg.txt'\n",
    "path_premier = '../Trekkninger/2016.04.22/premier.txt'\n",
    "\n",
    "pris = 20\n",
    "dato = '22.04.2016'"
   ]
  },
  {
   "cell_type": "code",
   "execution_count": 10,
   "metadata": {},
   "outputs": [],
   "source": [
    "col = ['navn', 'lodd']\n",
    "df1 = pd.read_csv(path_lodd, sep='\\t', names = col, index_col = col[0])\n",
    "\n",
    "col = ['navn', 'premier']\n",
    "df2 = pd.read_csv(path_premier, sep='\\t', names = col, index_col = col[0])\n",
    "\n",
    "df3 = pd.merge(df1,df2,on='navn', how='outer')\n",
    "df3.fillna(0, inplace = True)"
   ]
  },
  {
   "cell_type": "code",
   "execution_count": 11,
   "metadata": {},
   "outputs": [],
   "source": [
    "salg = pd.merge(df3,salg, on = 'navn', how = 'outer')\n",
    "salg.drop(columns=['premier'], inplace = True)\n",
    "salg['lodd'] = salg['lodd'] * pris\n",
    "salg.rename(columns={'lodd': dato}, inplace = True)\n",
    "salg.fillna(0, inplace = True)"
   ]
  },
  {
   "cell_type": "code",
   "execution_count": 12,
   "metadata": {},
   "outputs": [],
   "source": [
    "lodd = pd.merge(df3,lodd, on = 'navn', how = 'outer')\n",
    "lodd.drop(columns=['premier'], inplace = True)\n",
    "lodd.rename(columns={'lodd': dato}, inplace = True)\n",
    "lodd.fillna(0, inplace = True)"
   ]
  },
  {
   "cell_type": "code",
   "execution_count": 13,
   "metadata": {
    "scrolled": true
   },
   "outputs": [],
   "source": [
    "premier = pd.merge(df3,premier, on = 'navn', how = 'outer')\n",
    "premier.drop(columns=['lodd'], inplace = True)\n",
    "premier.rename(columns={'premier': dato}, inplace = True)\n",
    "premier.fillna(0, inplace = True)"
   ]
  }
 ],
 "metadata": {
  "kernelspec": {
   "display_name": "Python 3",
   "language": "python",
   "name": "python3"
  },
  "language_info": {
   "codemirror_mode": {
    "name": "ipython",
    "version": 3
   },
   "file_extension": ".py",
   "mimetype": "text/x-python",
   "name": "python",
   "nbconvert_exporter": "python",
   "pygments_lexer": "ipython3",
   "version": "3.7.2"
  }
 },
 "nbformat": 4,
 "nbformat_minor": 2
}
