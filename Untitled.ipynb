{
 "cells": [
  {
   "cell_type": "code",
   "execution_count": 20,
   "metadata": {},
   "outputs": [],
   "source": [
    "import os\n",
    "from os import listdir\n",
    "from os.path import isfile, join\n",
    "from pprint import pprint"
   ]
  },
  {
   "cell_type": "code",
   "execution_count": 14,
   "metadata": {},
   "outputs": [],
   "source": [
    "directory = 'C:\\\\Users\\\\aaroentr\\\\Documents\\\\git\\\\vinlotteri\\\\Trekkninger'\n",
    "folders = [x[0] for x in os.walk(directory)]\n",
    "del folders[0]"
   ]
  },
  {
   "cell_type": "code",
   "execution_count": 15,
   "metadata": {
    "scrolled": true
   },
   "outputs": [
    {
     "name": "stdout",
     "output_type": "stream",
     "text": [
      "['C:\\\\Users\\\\aaroentr\\\\Documents\\\\git\\\\vinlotteri\\\\Trekkninger\\\\2015.10.16',\n",
      " 'C:\\\\Users\\\\aaroentr\\\\Documents\\\\git\\\\vinlotteri\\\\Trekkninger\\\\2016.02.05',\n",
      " 'C:\\\\Users\\\\aaroentr\\\\Documents\\\\git\\\\vinlotteri\\\\Trekkninger\\\\2016.04.22',\n",
      " 'C:\\\\Users\\\\aaroentr\\\\Documents\\\\git\\\\vinlotteri\\\\Trekkninger\\\\2018.03.16',\n",
      " 'C:\\\\Users\\\\aaroentr\\\\Documents\\\\git\\\\vinlotteri\\\\Trekkninger\\\\2018.05.04',\n",
      " 'C:\\\\Users\\\\aaroentr\\\\Documents\\\\git\\\\vinlotteri\\\\Trekkninger\\\\2018.06.08',\n",
      " 'C:\\\\Users\\\\aaroentr\\\\Documents\\\\git\\\\vinlotteri\\\\Trekkninger\\\\2018.08.10',\n",
      " 'C:\\\\Users\\\\aaroentr\\\\Documents\\\\git\\\\vinlotteri\\\\Trekkninger\\\\2018.09.14',\n",
      " 'C:\\\\Users\\\\aaroentr\\\\Documents\\\\git\\\\vinlotteri\\\\Trekkninger\\\\2018.10.12',\n",
      " 'C:\\\\Users\\\\aaroentr\\\\Documents\\\\git\\\\vinlotteri\\\\Trekkninger\\\\2018.11.18',\n",
      " 'C:\\\\Users\\\\aaroentr\\\\Documents\\\\git\\\\vinlotteri\\\\Trekkninger\\\\2018.12.20',\n",
      " 'C:\\\\Users\\\\aaroentr\\\\Documents\\\\git\\\\vinlotteri\\\\Trekkninger\\\\2019.01.18',\n",
      " 'C:\\\\Users\\\\aaroentr\\\\Documents\\\\git\\\\vinlotteri\\\\Trekkninger\\\\2019.05.16',\n",
      " 'C:\\\\Users\\\\aaroentr\\\\Documents\\\\git\\\\vinlotteri\\\\Trekkninger\\\\2019.08.09']\n"
     ]
    }
   ],
   "source": [
    "pprint(folders)"
   ]
  },
  {
   "cell_type": "code",
   "execution_count": 21,
   "metadata": {},
   "outputs": [
    {
     "name": "stdout",
     "output_type": "stream",
     "text": [
      "['premier.txt', 'salg.txt']\n"
     ]
    }
   ],
   "source": [
    "onlyfiles = [f for f in listdir(folders[0]) if isfile(join(folders[0],f))]\n",
    "pprint(onlyfiles)"
   ]
  }
 ],
 "metadata": {
  "kernelspec": {
   "display_name": "Python 3",
   "language": "python",
   "name": "python3"
  },
  "language_info": {
   "codemirror_mode": {
    "name": "ipython",
    "version": 3
   },
   "file_extension": ".py",
   "mimetype": "text/x-python",
   "name": "python",
   "nbconvert_exporter": "python",
   "pygments_lexer": "ipython3",
   "version": "3.7.3"
  }
 },
 "nbformat": 4,
 "nbformat_minor": 2
}
